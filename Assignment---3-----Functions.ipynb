{
 "cells": [
  {
   "cell_type": "markdown",
   "id": "e07e8cad",
   "metadata": {},
   "source": [
    "# REGex Software Services\n",
    "\n",
    "### Data Science-Machine Learning and Deep Learning Training/Internship\n",
    "\n",
    "### Assignment - 3 Functions\n",
    "\n",
    "#### Name : Prachi Sharma\n",
    "\n",
    "#### Referral ID : AIRSS1110"
   ]
  },
  {
   "cell_type": "markdown",
   "id": "8751e0b1",
   "metadata": {},
   "source": [
    "#### Q.1  Write a function to return nth term of Fibonnaci sequence."
   ]
  },
  {
   "cell_type": "code",
   "execution_count": 28,
   "id": "37448e81",
   "metadata": {},
   "outputs": [
    {
     "name": "stdout",
     "output_type": "stream",
     "text": [
      "Enter the number=10\n",
      "34\n"
     ]
    }
   ],
   "source": [
    "n=int(input(\"Enter the number=\"))\n",
    "def fib(n):\n",
    "    a = 0\n",
    "    b = 1\n",
    "    if n < 0:\n",
    "        print(\"Incorrect\")\n",
    "    elif n == 0:\n",
    "        return a\n",
    "    elif n == 1:\n",
    "        return b\n",
    "    else:\n",
    "        for i in range(2, n):\n",
    "            c = a + b\n",
    "            a = b\n",
    "            b = c\n",
    "        return b\n",
    " \n",
    " \n",
    "print(fib(n))"
   ]
  },
  {
   "cell_type": "markdown",
   "id": "60e4d6e5",
   "metadata": {},
   "source": [
    "#### Q.2 Write a function to find out GCD of two numbers using EUCLID'S algorithm."
   ]
  },
  {
   "cell_type": "code",
   "execution_count": 29,
   "id": "db7e625b",
   "metadata": {},
   "outputs": [
    {
     "name": "stdout",
     "output_type": "stream",
     "text": [
      "Enter first number=10\n",
      "Enter second number=15\n",
      "The GCD of two number a and b is \n",
      "5\n"
     ]
    }
   ],
   "source": [
    "a=int(input(\"Enter first number=\"))\n",
    "b=int(input(\"Enter second number=\"))\n",
    "\n",
    "def gcd(a,b):  \n",
    "    \n",
    "    while a%b !=0:  \n",
    "        (a,b) = (b, a % b)  \n",
    "    return b\n",
    "    \n",
    "  \n",
    "n=gcd(a, b) \n",
    "\n",
    "print(\"The GCD of two number a and b is \") \n",
    "\n",
    "print(n) "
   ]
  },
  {
   "cell_type": "markdown",
   "id": "a8721d06",
   "metadata": {},
   "source": [
    "#### Q.3 Write a function to find LCM of two numbers in most optimizers way."
   ]
  },
  {
   "cell_type": "code",
   "execution_count": 30,
   "id": "74f46b5f",
   "metadata": {},
   "outputs": [
    {
     "name": "stdout",
     "output_type": "stream",
     "text": [
      "Enter first number=3\n",
      "Enter second number=8\n",
      "LCM of 3 and 8 is 24.0\n"
     ]
    }
   ],
   "source": [
    "a=int(input(\"Enter first number=\"))\n",
    "b=int(input(\"Enter second number=\"))\n",
    "\n",
    "def gcd(a,b):\n",
    "    if a == 0:\n",
    "        return b\n",
    "    return gcd(b % a, a)\n",
    " \n",
    "def lcm(a,b):\n",
    "    return (a / gcd(a,b))* b\n",
    " \n",
    "\n",
    "print('LCM of', a, 'and', b, 'is', lcm(a, b))\n",
    " "
   ]
  }
 ],
 "metadata": {
  "kernelspec": {
   "display_name": "Python 3",
   "language": "python",
   "name": "python3"
  },
  "language_info": {
   "codemirror_mode": {
    "name": "ipython",
    "version": 3
   },
   "file_extension": ".py",
   "mimetype": "text/x-python",
   "name": "python",
   "nbconvert_exporter": "python",
   "pygments_lexer": "ipython3",
   "version": "3.8.8"
  }
 },
 "nbformat": 4,
 "nbformat_minor": 5
}
