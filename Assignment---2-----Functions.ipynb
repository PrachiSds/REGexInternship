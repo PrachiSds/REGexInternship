{
 "cells": [
  {
   "cell_type": "markdown",
   "id": "e07e8cad",
   "metadata": {},
   "source": [
    "# REGex Software Services\n",
    "\n",
    "### Machine Learning and Deep Learning Training/Internship\n",
    "\n",
    "### Assignment - 2 Functions\n",
    "\n",
    "#### Name : Prachi Sharma\n",
    "\n",
    "#### Referral ID : AIRSS1110"
   ]
  },
  {
   "cell_type": "markdown",
   "id": "8751e0b1",
   "metadata": {},
   "source": [
    "#### Q.1  Write a lambda expression to extract first word of a string."
   ]
  },
  {
   "cell_type": "code",
   "execution_count": 10,
   "id": "63e1c4de",
   "metadata": {},
   "outputs": [
    {
     "data": {
      "text/plain": [
       "'Python'"
      ]
     },
     "execution_count": 10,
     "metadata": {},
     "output_type": "execute_result"
    }
   ],
   "source": [
    "s= ('Python  world')\n",
    "a=lambda s:s.split() [0]\n",
    "a(s)"
   ]
  },
  {
   "cell_type": "markdown",
   "id": "60e4d6e5",
   "metadata": {},
   "source": [
    "#### Q.2 Write a function to extract first word of s string (with many words separated by space)."
   ]
  },
  {
   "cell_type": "code",
   "execution_count": 11,
   "id": "e381b47e",
   "metadata": {},
   "outputs": [
    {
     "name": "stdout",
     "output_type": "stream",
     "text": [
      "enter the string = Program in python\n",
      "the first word of given string is =  Program\n"
     ]
    }
   ],
   "source": [
    "def string():\n",
    "    s=input(\"enter the string = \")\n",
    "    a=s.split()[0]\n",
    "    print(\"the first word of given string is = \", a)\n",
    "    \n",
    "string()"
   ]
  },
  {
   "cell_type": "markdown",
   "id": "a8721d06",
   "metadata": {},
   "source": [
    "#### Q.3 Extract the first word from every string from a list of strings by using map function."
   ]
  },
  {
   "cell_type": "code",
   "execution_count": 12,
   "id": "a10a93fc",
   "metadata": {},
   "outputs": [
    {
     "name": "stdout",
     "output_type": "stream",
     "text": [
      "['this', 'python', 'running', 'jupyter']\n"
     ]
    }
   ],
   "source": [
    "l=['this is ', 'python program','running in','jupyter notebook']\n",
    "def string(l):\n",
    "    return l.split()[0]\n",
    "\n",
    "first_l=map(string,l)\n",
    "\n",
    "string_list=list(first_l)\n",
    "print(string_list)\n",
    "    "
   ]
  },
  {
   "cell_type": "markdown",
   "id": "c017a8a9",
   "metadata": {},
   "source": [
    "#### Q.4 Write a function to return a list of prime factors of a given number."
   ]
  },
  {
   "cell_type": "code",
   "execution_count": 13,
   "id": "82e85d6b",
   "metadata": {},
   "outputs": [
    {
     "name": "stdout",
     "output_type": "stream",
     "text": [
      "Enter the number12\n",
      "The factors of  12 are=\n",
      "1\n",
      "2\n",
      "3\n",
      "4\n",
      "6\n",
      "12\n"
     ]
    }
   ],
   "source": [
    "n=int(input(\"Enter the number\"))\n",
    "\n",
    "def prime(n):\n",
    "    print(\"The factors of \" , n, \"are=\")\n",
    "    for i in range(1,n+1):\n",
    "        if n%i==0:\n",
    "            print(i)\n",
    "            \n",
    "prime(n)"
   ]
  },
  {
   "cell_type": "markdown",
   "id": "dda6c4af",
   "metadata": {},
   "source": [
    "#### Q.5 Write a function that finds 2nd largest among 4 numbers (Repetitions are allowed,without sorting)."
   ]
  },
  {
   "cell_type": "code",
   "execution_count": 14,
   "id": "5e2a3e27",
   "metadata": {},
   "outputs": [
    {
     "name": "stdout",
     "output_type": "stream",
     "text": [
      "The second largest number is= 7\n"
     ]
    }
   ],
   "source": [
    "l=[]\n",
    "\n",
    "def largest(l):\n",
    "    second_l=max(l)\n",
    "    l.remove(second_l)\n",
    "    second_l=max(l)\n",
    "    print(\"The second largest number is=\",second_l)\n",
    "    \n",
    "largest([10,5,7,6])    \n",
    "   "
   ]
  }
 ],
 "metadata": {
  "kernelspec": {
   "display_name": "Python 3",
   "language": "python",
   "name": "python3"
  },
  "language_info": {
   "codemirror_mode": {
    "name": "ipython",
    "version": 3
   },
   "file_extension": ".py",
   "mimetype": "text/x-python",
   "name": "python",
   "nbconvert_exporter": "python",
   "pygments_lexer": "ipython3",
   "version": "3.8.8"
  }
 },
 "nbformat": 4,
 "nbformat_minor": 5
}
